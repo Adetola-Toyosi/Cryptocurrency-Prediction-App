{
 "cells": [
  {
   "cell_type": "markdown",
   "id": "54ebbe18",
   "metadata": {},
   "source": [
    "### Sample analysis using BTC live data\n"
   ]
  },
  {
   "cell_type": "code",
   "execution_count": 24,
   "id": "d963b153",
   "metadata": {
    "pycharm": {
     "is_executing": true,
     "name": "#%%\n"
    }
   },
   "outputs": [],
   "source": [
    "# importing necessary libraries\n",
    "\n",
    "import pandas as pd\n",
    "import yfinance as yf\n",
    "import matplotlib.pyplot as plt\n",
    "import datetime as dt\n",
    "import numpy as np\n",
    "import seaborn as sb"
   ]
  },
  {
   "cell_type": "code",
   "execution_count": 25,
   "id": "272b9714",
   "metadata": {
    "pycharm": {
     "name": "#%%\n"
    }
   },
   "outputs": [],
   "source": [
    "# generating BTC data from yahoo finance from 2014 to the current day\n",
    "\n",
    "bit_data = yf.download(\n",
    "    'BTC-USD',\n",
    "    start_date='2014-01-01',\n",
    "    end_date=dt.datetime.now(),\n",
    "    progress=False\n",
    ")"
   ]
  },
  {
   "cell_type": "code",
   "execution_count": 26,
   "id": "d73c452f",
   "metadata": {},
   "outputs": [],
   "source": [
    "# saves BTC data as a csv file\n",
    "\n",
    "bit_data.to_csv('BTC_data.csv', index=True)"
   ]
  },
  {
   "cell_type": "code",
   "execution_count": 27,
   "id": "5e4dc899",
   "metadata": {
    "pycharm": {
     "name": "#%%\n"
    }
   },
   "outputs": [
    {
     "data": {
      "text/html": [
       "<div>\n",
       "<style scoped>\n",
       "    .dataframe tbody tr th:only-of-type {\n",
       "        vertical-align: middle;\n",
       "    }\n",
       "\n",
       "    .dataframe tbody tr th {\n",
       "        vertical-align: top;\n",
       "    }\n",
       "\n",
       "    .dataframe thead th {\n",
       "        text-align: right;\n",
       "    }\n",
       "</style>\n",
       "<table border=\"1\" class=\"dataframe\">\n",
       "  <thead>\n",
       "    <tr style=\"text-align: right;\">\n",
       "      <th></th>\n",
       "      <th>Date</th>\n",
       "      <th>Open</th>\n",
       "      <th>High</th>\n",
       "      <th>Low</th>\n",
       "      <th>Close</th>\n",
       "      <th>Adj Close</th>\n",
       "      <th>Volume</th>\n",
       "    </tr>\n",
       "  </thead>\n",
       "  <tbody>\n",
       "    <tr>\n",
       "      <th>2859</th>\n",
       "      <td>2022-07-16</td>\n",
       "      <td>20834.103516</td>\n",
       "      <td>21514.404297</td>\n",
       "      <td>20518.898438</td>\n",
       "      <td>21190.316406</td>\n",
       "      <td>21190.316406</td>\n",
       "      <td>24302954056</td>\n",
       "    </tr>\n",
       "    <tr>\n",
       "      <th>2860</th>\n",
       "      <td>2022-07-17</td>\n",
       "      <td>21195.041016</td>\n",
       "      <td>21600.640625</td>\n",
       "      <td>20778.179688</td>\n",
       "      <td>20779.343750</td>\n",
       "      <td>20779.343750</td>\n",
       "      <td>22927802083</td>\n",
       "    </tr>\n",
       "    <tr>\n",
       "      <th>2861</th>\n",
       "      <td>2022-07-18</td>\n",
       "      <td>20781.912109</td>\n",
       "      <td>22633.033203</td>\n",
       "      <td>20781.912109</td>\n",
       "      <td>22485.689453</td>\n",
       "      <td>22485.689453</td>\n",
       "      <td>39974475562</td>\n",
       "    </tr>\n",
       "    <tr>\n",
       "      <th>2862</th>\n",
       "      <td>2022-07-19</td>\n",
       "      <td>22467.849609</td>\n",
       "      <td>23666.962891</td>\n",
       "      <td>21683.406250</td>\n",
       "      <td>23389.433594</td>\n",
       "      <td>23389.433594</td>\n",
       "      <td>48765202697</td>\n",
       "    </tr>\n",
       "    <tr>\n",
       "      <th>2863</th>\n",
       "      <td>2022-07-21</td>\n",
       "      <td>23393.863281</td>\n",
       "      <td>24195.335938</td>\n",
       "      <td>23021.623047</td>\n",
       "      <td>23240.767578</td>\n",
       "      <td>23240.767578</td>\n",
       "      <td>42855137280</td>\n",
       "    </tr>\n",
       "  </tbody>\n",
       "</table>\n",
       "</div>"
      ],
      "text/plain": [
       "            Date          Open          High           Low         Close  \\\n",
       "2859  2022-07-16  20834.103516  21514.404297  20518.898438  21190.316406   \n",
       "2860  2022-07-17  21195.041016  21600.640625  20778.179688  20779.343750   \n",
       "2861  2022-07-18  20781.912109  22633.033203  20781.912109  22485.689453   \n",
       "2862  2022-07-19  22467.849609  23666.962891  21683.406250  23389.433594   \n",
       "2863  2022-07-21  23393.863281  24195.335938  23021.623047  23240.767578   \n",
       "\n",
       "         Adj Close       Volume  \n",
       "2859  21190.316406  24302954056  \n",
       "2860  20779.343750  22927802083  \n",
       "2861  22485.689453  39974475562  \n",
       "2862  23389.433594  48765202697  \n",
       "2863  23240.767578  42855137280  "
      ]
     },
     "execution_count": 27,
     "metadata": {},
     "output_type": "execute_result"
    }
   ],
   "source": [
    "# reads and displays last 5 records\n",
    "\n",
    "data = pd.read_csv('BTC_data.csv')\n",
    "data.tail()"
   ]
  },
  {
   "cell_type": "code",
   "execution_count": 7,
   "id": "65080574",
   "metadata": {
    "pycharm": {
     "name": "#%%\n"
    },
    "scrolled": true
   },
   "outputs": [
    {
     "name": "stdout",
     "output_type": "stream",
     "text": [
      "<class 'pandas.core.frame.DataFrame'>\n",
      "                 Close\n",
      "Date                  \n",
      "2014-09-17  457.334015\n",
      "2014-09-18  424.440002\n",
      "2014-09-19  394.795990\n",
      "2014-09-20  408.903992\n",
      "2014-09-21  398.821014\n"
     ]
    }
   ],
   "source": [
    "# \n",
    "\n",
    "closing_price = data['Close']\n",
    "date = data['Date'] = pd.to_datetime(data['Date'])\n",
    "bit_data = data[['Date', 'Close']]\n",
    "\n",
    "bitcoin = bit_data.set_index('Date')\n",
    "bitcoin.sort_index(inplace=True)\n",
    "\n",
    "# print(type(bitcoin))\n",
    "print(bitcoin.head())"
   ]
  },
  {
   "cell_type": "code",
   "execution_count": 8,
   "id": "7d178705",
   "metadata": {},
   "outputs": [
    {
     "data": {
      "text/plain": [
       "pandas.core.frame.DataFrame"
      ]
     },
     "execution_count": 8,
     "metadata": {},
     "output_type": "execute_result"
    }
   ],
   "source": [
    "type(bitcoin)"
   ]
  },
  {
   "cell_type": "code",
   "execution_count": 9,
   "id": "89e8fc3f",
   "metadata": {
    "pycharm": {
     "name": "#%%\n"
    },
    "scrolled": false
   },
   "outputs": [
    {
     "data": {
      "image/png": "[encoded data removed]",
      "text/plain": [
       "<Figure size 432x288 with 1 Axes>"
      ]
     },
     "metadata": {
      "needs_background": "light"
     },
     "output_type": "display_data"
    },
    {
     "name": "stdout",
     "output_type": "stream",
     "text": [
      "Wall time: 271 ms\n"
     ]
    }
   ],
   "source": [
    "\n",
    "plt.plot(bitcoin)\n",
    "plt.show()"
   ]
  },
  {
   "cell_type": "code",
   "execution_count": 9,
   "id": "5dc1506c",
   "metadata": {},
   "outputs": [
    {
     "data": {
      "text/html": [
       "<div>\n",
       "<style scoped>\n",
       "    .dataframe tbody tr th:only-of-type {\n",
       "        vertical-align: middle;\n",
       "    }\n",
       "\n",
       "    .dataframe tbody tr th {\n",
       "        vertical-align: top;\n",
       "    }\n",
       "\n",
       "    .dataframe thead th {\n",
       "        text-align: right;\n",
       "    }\n",
       "</style>\n",
       "<table border=\"1\" class=\"dataframe\">\n",
       "  <thead>\n",
       "    <tr style=\"text-align: right;\">\n",
       "      <th></th>\n",
       "      <th>Open</th>\n",
       "      <th>High</th>\n",
       "      <th>Low</th>\n",
       "      <th>Close</th>\n",
       "      <th>Adj Close</th>\n",
       "      <th>Volume</th>\n",
       "    </tr>\n",
       "  </thead>\n",
       "  <tbody>\n",
       "    <tr>\n",
       "      <th>count</th>\n",
       "      <td>2823.000000</td>\n",
       "      <td>2823.000000</td>\n",
       "      <td>2823.000000</td>\n",
       "      <td>2823.000000</td>\n",
       "      <td>2823.000000</td>\n",
       "      <td>2.823000e+03</td>\n",
       "    </tr>\n",
       "    <tr>\n",
       "      <th>mean</th>\n",
       "      <td>12343.222356</td>\n",
       "      <td>12665.393244</td>\n",
       "      <td>11985.455188</td>\n",
       "      <td>12352.070638</td>\n",
       "      <td>12352.070638</td>\n",
       "      <td>1.528569e+10</td>\n",
       "    </tr>\n",
       "    <tr>\n",
       "      <th>std</th>\n",
       "      <td>16636.916143</td>\n",
       "      <td>17067.505218</td>\n",
       "      <td>16140.143925</td>\n",
       "      <td>16635.018828</td>\n",
       "      <td>16635.018828</td>\n",
       "      <td>1.992926e+10</td>\n",
       "    </tr>\n",
       "    <tr>\n",
       "      <th>min</th>\n",
       "      <td>176.897003</td>\n",
       "      <td>211.731003</td>\n",
       "      <td>171.509995</td>\n",
       "      <td>178.102997</td>\n",
       "      <td>178.102997</td>\n",
       "      <td>5.914570e+06</td>\n",
       "    </tr>\n",
       "    <tr>\n",
       "      <th>25%</th>\n",
       "      <td>624.013000</td>\n",
       "      <td>630.622009</td>\n",
       "      <td>616.770508</td>\n",
       "      <td>624.329010</td>\n",
       "      <td>624.329010</td>\n",
       "      <td>8.529705e+07</td>\n",
       "    </tr>\n",
       "    <tr>\n",
       "      <th>50%</th>\n",
       "      <td>6500.509766</td>\n",
       "      <td>6611.839844</td>\n",
       "      <td>6408.160156</td>\n",
       "      <td>6506.069824</td>\n",
       "      <td>6506.069824</td>\n",
       "      <td>5.631310e+09</td>\n",
       "    </tr>\n",
       "    <tr>\n",
       "      <th>75%</th>\n",
       "      <td>11361.438477</td>\n",
       "      <td>11600.270508</td>\n",
       "      <td>11057.170410</td>\n",
       "      <td>11362.767578</td>\n",
       "      <td>11362.767578</td>\n",
       "      <td>2.610013e+10</td>\n",
       "    </tr>\n",
       "    <tr>\n",
       "      <th>max</th>\n",
       "      <td>67549.734375</td>\n",
       "      <td>68789.625000</td>\n",
       "      <td>66382.062500</td>\n",
       "      <td>67566.828125</td>\n",
       "      <td>67566.828125</td>\n",
       "      <td>3.509679e+11</td>\n",
       "    </tr>\n",
       "  </tbody>\n",
       "</table>\n",
       "</div>"
      ],
      "text/plain": [
       "               Open          High           Low         Close     Adj Close  \\\n",
       "count   2823.000000   2823.000000   2823.000000   2823.000000   2823.000000   \n",
       "mean   12343.222356  12665.393244  11985.455188  12352.070638  12352.070638   \n",
       "std    16636.916143  17067.505218  16140.143925  16635.018828  16635.018828   \n",
       "min      176.897003    211.731003    171.509995    178.102997    178.102997   \n",
       "25%      624.013000    630.622009    616.770508    624.329010    624.329010   \n",
       "50%     6500.509766   6611.839844   6408.160156   6506.069824   6506.069824   \n",
       "75%    11361.438477  11600.270508  11057.170410  11362.767578  11362.767578   \n",
       "max    67549.734375  68789.625000  66382.062500  67566.828125  67566.828125   \n",
       "\n",
       "             Volume  \n",
       "count  2.823000e+03  \n",
       "mean   1.528569e+10  \n",
       "std    1.992926e+10  \n",
       "min    5.914570e+06  \n",
       "25%    8.529705e+07  \n",
       "50%    5.631310e+09  \n",
       "75%    2.610013e+10  \n",
       "max    3.509679e+11  "
      ]
     },
     "execution_count": 9,
     "metadata": {},
     "output_type": "execute_result"
    }
   ],
   "source": [
    "data.describe()"
   ]
  },
  {
   "cell_type": "code",
   "execution_count": 10,
   "id": "6e063acf",
   "metadata": {},
   "outputs": [
    {
     "data": {
      "image/png": "[encoded data removed]",
      "text/plain": [
       "<Figure size 432x288 with 9 Axes>"
      ]
     },
     "metadata": {
      "needs_background": "light"
     },
     "output_type": "display_data"
    }
   ],
   "source": [
    "data.hist()\n",
    "\n",
    "plt.tight_layout()\n",
    "plt.show()"
   ]
  },
  {
   "cell_type": "code",
   "execution_count": 11,
   "id": "120eb900",
   "metadata": {},
   "outputs": [],
   "source": [
    "corr = data.corr(method='pearson')\n"
   ]
  },
  {
   "cell_type": "code",
   "execution_count": 12,
   "id": "52ab42ca",
   "metadata": {},
   "outputs": [
    {
     "data": {
      "text/html": [
       "<div>\n",
       "<style scoped>\n",
       "    .dataframe tbody tr th:only-of-type {\n",
       "        vertical-align: middle;\n",
       "    }\n",
       "\n",
       "    .dataframe tbody tr th {\n",
       "        vertical-align: top;\n",
       "    }\n",
       "\n",
       "    .dataframe thead th {\n",
       "        text-align: right;\n",
       "    }\n",
       "</style>\n",
       "<table border=\"1\" class=\"dataframe\">\n",
       "  <thead>\n",
       "    <tr style=\"text-align: right;\">\n",
       "      <th></th>\n",
       "      <th>Open</th>\n",
       "      <th>High</th>\n",
       "      <th>Low</th>\n",
       "      <th>Close</th>\n",
       "      <th>Adj Close</th>\n",
       "      <th>Volume</th>\n",
       "    </tr>\n",
       "  </thead>\n",
       "  <tbody>\n",
       "    <tr>\n",
       "      <th>Open</th>\n",
       "      <td>1.000000</td>\n",
       "      <td>0.999530</td>\n",
       "      <td>0.999128</td>\n",
       "      <td>0.998830</td>\n",
       "      <td>0.998830</td>\n",
       "      <td>0.723997</td>\n",
       "    </tr>\n",
       "    <tr>\n",
       "      <th>High</th>\n",
       "      <td>0.999530</td>\n",
       "      <td>1.000000</td>\n",
       "      <td>0.999056</td>\n",
       "      <td>0.999488</td>\n",
       "      <td>0.999488</td>\n",
       "      <td>0.727894</td>\n",
       "    </tr>\n",
       "    <tr>\n",
       "      <th>Low</th>\n",
       "      <td>0.999128</td>\n",
       "      <td>0.999056</td>\n",
       "      <td>1.000000</td>\n",
       "      <td>0.999395</td>\n",
       "      <td>0.999395</td>\n",
       "      <td>0.716011</td>\n",
       "    </tr>\n",
       "    <tr>\n",
       "      <th>Close</th>\n",
       "      <td>0.998830</td>\n",
       "      <td>0.999488</td>\n",
       "      <td>0.999395</td>\n",
       "      <td>1.000000</td>\n",
       "      <td>1.000000</td>\n",
       "      <td>0.722904</td>\n",
       "    </tr>\n",
       "    <tr>\n",
       "      <th>Adj Close</th>\n",
       "      <td>0.998830</td>\n",
       "      <td>0.999488</td>\n",
       "      <td>0.999395</td>\n",
       "      <td>1.000000</td>\n",
       "      <td>1.000000</td>\n",
       "      <td>0.722904</td>\n",
       "    </tr>\n",
       "    <tr>\n",
       "      <th>Volume</th>\n",
       "      <td>0.723997</td>\n",
       "      <td>0.727894</td>\n",
       "      <td>0.716011</td>\n",
       "      <td>0.722904</td>\n",
       "      <td>0.722904</td>\n",
       "      <td>1.000000</td>\n",
       "    </tr>\n",
       "  </tbody>\n",
       "</table>\n",
       "</div>"
      ],
      "text/plain": [
       "               Open      High       Low     Close  Adj Close    Volume\n",
       "Open       1.000000  0.999530  0.999128  0.998830   0.998830  0.723997\n",
       "High       0.999530  1.000000  0.999056  0.999488   0.999488  0.727894\n",
       "Low        0.999128  0.999056  1.000000  0.999395   0.999395  0.716011\n",
       "Close      0.998830  0.999488  0.999395  1.000000   1.000000  0.722904\n",
       "Adj Close  0.998830  0.999488  0.999395  1.000000   1.000000  0.722904\n",
       "Volume     0.723997  0.727894  0.716011  0.722904   0.722904  1.000000"
      ]
     },
     "execution_count": 12,
     "metadata": {},
     "output_type": "execute_result"
    }
   ],
   "source": [
    "corr"
   ]
  },
  {
   "cell_type": "code",
   "execution_count": 13,
   "id": "bce6805c",
   "metadata": {},
   "outputs": [
    {
     "data": {
      "image/png": "[encoded data removed]",
      "text/plain": [
       "<Figure size 432x288 with 2 Axes>"
      ]
     },
     "metadata": {
      "needs_background": "light"
     },
     "output_type": "display_data"
    }
   ],
   "source": [
    "sb.heatmap(corr,annot=True)\n",
    "plt.show()"
   ]
  },
  {
   "cell_type": "code",
   "execution_count": 14,
   "id": "8e4c79a9",
   "metadata": {},
   "outputs": [
    {
     "data": {
      "text/plain": [
       "Date         0\n",
       "Open         0\n",
       "High         0\n",
       "Low          0\n",
       "Close        0\n",
       "Adj Close    0\n",
       "Volume       0\n",
       "dtype: int64"
      ]
     },
     "execution_count": 14,
     "metadata": {},
     "output_type": "execute_result"
    }
   ],
   "source": [
    "data.isnull().sum()"
   ]
  },
  {
   "cell_type": "code",
   "execution_count": 15,
   "id": "b87afba2",
   "metadata": {},
   "outputs": [],
   "source": [
    "from sklearn.preprocessing import Normalizer"
   ]
  },
  {
   "cell_type": "code",
   "execution_count": 16,
   "id": "fa4f9f00",
   "metadata": {},
   "outputs": [],
   "source": [
    "normalizer = Normalizer(norm='l1').fit(data[data.columns[1:6]])"
   ]
  },
  {
   "cell_type": "code",
   "execution_count": 17,
   "id": "9a7d8447",
   "metadata": {},
   "outputs": [],
   "source": [
    "normalized_data = normalizer.transform(data[data.columns[1:6]])"
   ]
  },
  {
   "cell_type": "code",
   "execution_count": 18,
   "id": "a833af0e",
   "metadata": {},
   "outputs": [
    {
     "data": {
      "text/plain": [
       "array([[0.2 , 0.2 , 0.2 , 0.2 , 0.2 ],\n",
       "       [0.21, 0.21, 0.19, 0.2 , 0.2 ],\n",
       "       [0.21, 0.21, 0.19, 0.19, 0.19]])"
      ]
     },
     "execution_count": 18,
     "metadata": {},
     "output_type": "execute_result"
    }
   ],
   "source": [
    "normalized_data[0:3]"
   ]
  }
 ],
 "metadata": {
  "kernelspec": {
   "display_name": "Python 3 (ipykernel)",
   "language": "python",
   "name": "python3"
  },
  "language_info": {
   "codemirror_mode": {
    "name": "ipython",
    "version": 3
   },
   "file_extension": ".py",
   "mimetype": "text/x-python",
   "name": "python",
   "nbconvert_exporter": "python",
   "pygments_lexer": "ipython3",
   "version": "3.9.7"
  }
 },
 "nbformat": 4,
 "nbformat_minor": 5
}
